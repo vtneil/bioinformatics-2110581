{
 "cells": [
  {
   "cell_type": "code",
   "execution_count": 32,
   "metadata": {
    "id": "snq1v3M8tVYv",
    "ExecuteTime": {
     "end_time": "2023-10-26T07:25:32.712097Z",
     "start_time": "2023-10-26T07:25:32.687720Z"
    }
   },
   "outputs": [],
   "source": [
    "%matplotlib inline"
   ]
  },
  {
   "cell_type": "code",
   "execution_count": 33,
   "metadata": {
    "id": "k-3Bx0fTtVYw",
    "outputId": "24bab028-3cd1-4895-935c-467b094e215f",
    "ExecuteTime": {
     "end_time": "2023-10-26T07:25:34.102929Z",
     "start_time": "2023-10-26T07:25:32.692733Z"
    }
   },
   "outputs": [
    {
     "name": "stdout",
     "output_type": "stream",
     "text": [
      "Requirement already satisfied: scipy in /Users/vt/miniconda3/envs/bioinformatics/lib/python3.9/site-packages (1.11.3)\r\n",
      "Requirement already satisfied: numpy<1.28.0,>=1.21.6 in /Users/vt/miniconda3/envs/bioinformatics/lib/python3.9/site-packages (from scipy) (1.26.0)\r\n",
      "\u001B[33mWARNING: There was an error checking the latest version of pip.\u001B[0m\u001B[33m\r\n",
      "\u001B[0mNote: you may need to restart the kernel to use updated packages.\n",
      "Requirement already satisfied: biotite in /Users/vt/miniconda3/envs/bioinformatics/lib/python3.9/site-packages (0.38.0)\r\n",
      "Requirement already satisfied: requests>=2.12 in /Users/vt/miniconda3/envs/bioinformatics/lib/python3.9/site-packages (from biotite) (2.31.0)\r\n",
      "Requirement already satisfied: numpy>=1.14.5 in /Users/vt/miniconda3/envs/bioinformatics/lib/python3.9/site-packages (from biotite) (1.26.0)\r\n",
      "Requirement already satisfied: msgpack>=0.5.6 in /Users/vt/miniconda3/envs/bioinformatics/lib/python3.9/site-packages (from biotite) (1.0.7)\r\n",
      "Requirement already satisfied: networkx>=2.0 in /Users/vt/miniconda3/envs/bioinformatics/lib/python3.9/site-packages (from biotite) (3.2)\r\n",
      "Requirement already satisfied: charset-normalizer<4,>=2 in /Users/vt/miniconda3/envs/bioinformatics/lib/python3.9/site-packages (from requests>=2.12->biotite) (2.0.4)\r\n",
      "Requirement already satisfied: idna<4,>=2.5 in /Users/vt/miniconda3/envs/bioinformatics/lib/python3.9/site-packages (from requests>=2.12->biotite) (3.4)\r\n",
      "Requirement already satisfied: urllib3<3,>=1.21.1 in /Users/vt/miniconda3/envs/bioinformatics/lib/python3.9/site-packages (from requests>=2.12->biotite) (1.26.16)\r\n",
      "Requirement already satisfied: certifi>=2017.4.17 in /Users/vt/miniconda3/envs/bioinformatics/lib/python3.9/site-packages (from requests>=2.12->biotite) (2023.7.22)\r\n",
      "\u001B[33mWARNING: There was an error checking the latest version of pip.\u001B[0m\u001B[33m\r\n",
      "\u001B[0mNote: you may need to restart the kernel to use updated packages.\n"
     ]
    }
   ],
   "source": [
    "%pip install scipy\n",
    "%pip install biotite"
   ]
  },
  {
   "cell_type": "markdown",
   "metadata": {
    "id": "3nBv6SOAtVYw"
   },
   "source": [
    "\n",
    "# Docking biotin to streptavidin\n",
    "\n",
    "This example shows how to use *AutoDock Vina* :footcite:`Trott2010`\n",
    "from within *Biotite* for docking a ligand molecule to a known receptor\n",
    "structure.\n",
    "As example, we examine the famous streptavidin-biotin interaction.\n",
    "\n",
    "At first we download a high resolution structure of the complex.\n",
    "The resolution is important here:\n",
    "For one thing, the docking procedure requires annotated hydrogen atoms\n",
    "for the receptor molecule, which seldom is the case for low resolution\n",
    "X-ray structures.\n",
    "On the other hand, we would like to have a reliable reference binding\n",
    "mode of the ligand, to evaluate how well out docking procedure went\n",
    "\n",
    "After separation of the receptor and the reference ligand,\n",
    "a biotin model is loaded from the chemical components dictionary and\n",
    "docked into the binding cavity of streptavidin.\n",
    "\n",
    "Finally, the docked model is compared to the reference model, with\n",
    "respect to their RMSD.\n",
    "\n",
    ".. footbibliography::\n"
   ]
  },
  {
   "cell_type": "code",
   "execution_count": 34,
   "metadata": {
    "id": "UYeAkqTPtVYx",
    "outputId": "1f249444-b785-4256-cec7-40ba6475db61",
    "ExecuteTime": {
     "end_time": "2023-10-26T07:25:39.519492Z",
     "start_time": "2023-10-26T07:25:34.102312Z"
    }
   },
   "outputs": [
    {
     "data": {
      "text/plain": "<Figure size 800x600 with 1 Axes>",
      "image/png": "[encoded data removed]"
     },
     "metadata": {},
     "output_type": "display_data"
    }
   ],
   "source": [
    "# Code source: Patrick Kunzmann\n",
    "# License: BSD 3 clause\n",
    "\n",
    "import numpy as np\n",
    "import matplotlib.pyplot as plt\n",
    "from scipy.stats import spearmanr\n",
    "import biotite.structure as struc\n",
    "import biotite.structure.info as info\n",
    "import biotite.structure.io.mmtf as mmtf\n",
    "import biotite.structure.io.mol as mol\n",
    "import biotite.structure.io.pdb as pdb\n",
    "import biotite.structure.io.pdbqt as pdbqt\n",
    "import biotite.structure.graphics as graphics\n",
    "import biotite.database.rcsb as rcsb\n",
    "import biotite.database.pubchem as pubchem\n",
    "import biotite.application.autodock as autodock\n",
    "\n",
    "\n",
    "# Get the receptor structure\n",
    "# and the original 'correct' conformation of the ligand\n",
    "mmtf_file = mmtf.MMTFFile.read(rcsb.fetch(\"2RTG\", \"mmtf\"))\n",
    "structure = mmtf.get_structure(\n",
    "    # Include formal charge for accurate partial charge calculation\n",
    "    mmtf_file, model=1, include_bonds=True, extra_fields=[\"charge\"]\n",
    ")\n",
    "# The asymmetric unit describes a streptavidin homodimer\n",
    "# However, we are only interested in a single monomer\n",
    "structure = structure[structure.chain_id == \"B\"]\n",
    "receptor = structure[struc.filter_amino_acids(structure)]\n",
    "\n",
    "ref_ligand = structure[structure.res_name == \"BTN\"]\n",
    "ref_ligand_center = struc.centroid(ref_ligand)\n",
    "\n",
    "\n",
    "# Independently, get the ligand without optimized conformation\n",
    "# from the chemical components dictionary\n",
    "ligand = info.residue(\"BTN\")\n",
    "\n",
    "# Search for a binding mode in a 20 Å radius\n",
    "# of the original ligand position\n",
    "app = autodock.VinaApp(ligand, receptor, ref_ligand_center, [20, 20, 20], bin_path=\"/Users/vt/vina\")\n",
    "# For reproducibility\n",
    "app.set_seed(0)\n",
    "# This is the maximum number:\n",
    "# Vina may find less interesting binding modes\n",
    "# and thus output less models\n",
    "app.set_max_number_of_models(100)\n",
    "# Effectively no limit\n",
    "app.set_energy_range(100.0)\n",
    "# Start docking run\n",
    "app.start()\n",
    "app.join()\n",
    "docked_coord = app.get_ligand_coord()\n",
    "energies = app.get_energies()\n",
    "\n",
    "# Create an AtomArrayStack for all docked binding modes\n",
    "docked_ligand = struc.from_template(ligand, docked_coord)\n",
    "# As Vina discards all nonpolar hydrogen atoms, their respective\n",
    "# coordinates are NaN -> remove these atoms\n",
    "docked_ligand = docked_ligand[\n",
    "    ..., ~np.isnan(docked_ligand.coord[0]).any(axis=-1)\n",
    "]\n",
    "\n",
    "\n",
    "# For comparison of the docked pose with the experimentally determined\n",
    "# reference conformation, the atom order of both must be exactly the\n",
    "# same\n",
    "# Therefore, all atoms, that are additional in one of both models,\n",
    "# e.g. carboxy or nonpolar hydrogen atoms, are removed...\n",
    "docked_ligand = docked_ligand[\n",
    "    ..., np.isin(docked_ligand.atom_name, ref_ligand.atom_name)\n",
    "]\n",
    "docked_ligand = docked_ligand[..., info.standardize_order(docked_ligand)]\n",
    "# ...and the atom order is standardized\n",
    "ref_ligand = ref_ligand[np.isin(ref_ligand.atom_name, docked_ligand.atom_name)]\n",
    "ref_ligand = ref_ligand[info.standardize_order(ref_ligand)]\n",
    "\n",
    "# print(\"docked_ligand in main\", docked_ligand)\n",
    "\n",
    "# Calculate the RMSD of the docked models to the correct binding mode\n",
    "# No superimposition prior to RMSD calculation, as we want to see\n",
    "# conformation differences with respect to the binding pocket\n",
    "rmsd = struc.rmsd(ref_ligand, docked_ligand)\n",
    "\n",
    "# Evaluate correlation between RMSD and binding energies\n",
    "correlation, p_value = spearmanr(energies, rmsd)\n",
    "\n",
    "figure, ax = plt.subplots(figsize=(8.0, 6.0))\n",
    "ax.set_title(f\"$r_s$ = {correlation:.2f} ($p$ = {p_value*100:.1f}%)\")\n",
    "ax.scatter(energies, rmsd, marker=\"+\", color=\"black\")\n",
    "ax.set_xlabel(\"Energy (kcal/mol)\")\n",
    "ax.set_ylabel(\"RMSD (Å)\")\n",
    "figure.tight_layout()\n",
    "plt.show()"
   ]
  },
  {
   "cell_type": "markdown",
   "metadata": {
    "id": "F517avjttVYy"
   },
   "source": [
    "For this specific case *AutoDock Vina* shows only a low Spearman\n",
    "correlation between the RMSD of the calculated models to the\n",
    "correct binding mode and the associated calculated binding energy.\n",
    "A high correlation is desireable to ensure that docking results with\n",
    "good binding energies correspond to the correct binding mode for cases\n",
    "in which the correct binding conformation is unknown.\n",
    "However, at least the calculated model with highest predicted affinity\n",
    "is also the conformation with the lowest deviation from the\n",
    "experimental result in this instance.\n",
    "Hence, *AutoDock Vina* was able to predict an almost correct\n",
    "binding mode as its best *guess*.\n",
    "\n",
    "In a final step, we want to visually compare the experimentally\n",
    "determined conformation of biotin in the binding pocket with the\n",
    "minimum-energy docked conformation, which is also the conformation\n",
    "with the lowest RMSD in this case.\n",
    "The docked conformation is shown as ball-and-stick model, the original\n",
    "experimentally determined biotin conformation is shown in transparent\n",
    "blue.\n",
    "\n"
   ]
  },
  {
   "cell_type": "code",
   "execution_count": 35,
   "metadata": {
    "id": "TgIWPMwptVYy",
    "ExecuteTime": {
     "end_time": "2023-10-26T07:25:39.543852Z",
     "start_time": "2023-10-26T07:25:39.534799Z"
    }
   },
   "outputs": [],
   "source": [
    "# Get the best fitting model,\n",
    "# i.e the model with the lowest RMSD to the reference conformation\n",
    "# print(\"docked_ligand\", docked_ligand)\n",
    "docked_ligand = docked_ligand[np.argmin(rmsd)]\n",
    "#print(\"ref_ligand\", ref_ligand)\n",
    "\n",
    "# Vina only keeps polar hydrogens in the modeled structure\n",
    "# For consistency, remove all hydrogen atoms in the reference and\n",
    "# modelled structure\n",
    "ref_ligand = ref_ligand[ref_ligand.element!= \"H\"]\n",
    "docked_ligand = docked_ligand[docked_ligand.element!= \"H\"]\n",
    "\n",
    "# sphinx_gallery_thumbnail_number = 2\n",
    "# Visualization with PyMOL..."
   ]
  },
  {
   "cell_type": "code",
   "execution_count": 36,
   "metadata": {
    "id": "9n1sR2mjtVYy",
    "ExecuteTime": {
     "end_time": "2023-10-26T07:25:39.571165Z",
     "start_time": "2023-10-26T07:25:39.553534Z"
    }
   },
   "outputs": [
    {
     "name": "stdout",
     "output_type": "stream",
     "text": [
      "HET         0  BTN C11    C        29.437   14.302   -9.319\n",
      "HET         0  BTN O11    O        28.503   13.857   -8.694\n",
      "HET         0  BTN O12    O        29.663   13.886  -10.575\n",
      "HET         0  BTN C10    C        30.343   15.329   -8.690\n",
      "HET         0  BTN C9     C        31.694   14.689   -8.367\n",
      "HET         0  BTN C8     C        31.499   13.573   -7.339\n",
      "HET         0  BTN C7     C        32.837   12.880   -7.078\n",
      "HET         0  BTN C2     C        32.592   11.549   -6.365\n",
      "HET         0  BTN S1     S        31.802   11.824   -4.726\n",
      "HET         0  BTN C6     C        32.472   10.286   -3.972\n",
      "HET         0  BTN C5     C        33.859   10.160   -4.633\n",
      "HET         0  BTN N1     N        34.854   10.865   -3.809\n",
      "HET         0  BTN C3     C        35.421   11.833   -4.541\n",
      "HET         0  BTN O3     O        36.283   12.573   -4.108\n",
      "HET         0  BTN N2     N        34.953   11.912   -5.794\n",
      "HET         0  BTN C4     C        33.926   10.876   -5.989\n"
     ]
    }
   ],
   "source": [
    "print(docked_ligand)"
   ]
  },
  {
   "cell_type": "code",
   "execution_count": 36,
   "outputs": [],
   "source": [],
   "metadata": {
    "collapsed": false,
    "ExecuteTime": {
     "end_time": "2023-10-26T07:25:39.645282Z",
     "start_time": "2023-10-26T07:25:39.570477Z"
    }
   }
  }
 ],
 "metadata": {
  "kernelspec": {
   "display_name": "Python 3",
   "language": "python",
   "name": "python3"
  },
  "language_info": {
   "codemirror_mode": {
    "name": "ipython",
    "version": 3
   },
   "file_extension": ".py",
   "mimetype": "text/x-python",
   "name": "python",
   "nbconvert_exporter": "python",
   "pygments_lexer": "ipython3",
   "version": "3.11.5"
  },
  "colab": {
   "provenance": []
  }
 },
 "nbformat": 4,
 "nbformat_minor": 0
}
